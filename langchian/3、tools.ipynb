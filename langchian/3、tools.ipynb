{
 "cells": [
  {
   "cell_type": "code",
   "execution_count": 1,
   "id": "bc031ee8",
   "metadata": {},
   "outputs": [],
   "source": [
    "import numpy as np\n",
    "import pandas as pd"
   ]
  },
  {
   "cell_type": "markdown",
   "id": "9274930a",
   "metadata": {},
   "source": [
    "## 读入数据"
   ]
  },
  {
   "cell_type": "code",
   "execution_count": 2,
   "id": "42699c7a",
   "metadata": {},
   "outputs": [
    {
     "data": {
      "text/html": [
       "<div>\n",
       "<style scoped>\n",
       "    .dataframe tbody tr th:only-of-type {\n",
       "        vertical-align: middle;\n",
       "    }\n",
       "\n",
       "    .dataframe tbody tr th {\n",
       "        vertical-align: top;\n",
       "    }\n",
       "\n",
       "    .dataframe thead th {\n",
       "        text-align: right;\n",
       "    }\n",
       "</style>\n",
       "<table border=\"1\" class=\"dataframe\">\n",
       "  <thead>\n",
       "    <tr style=\"text-align: right;\">\n",
       "      <th></th>\n",
       "      <th>PassengerId</th>\n",
       "      <th>Survived</th>\n",
       "      <th>Pclass</th>\n",
       "      <th>Name</th>\n",
       "      <th>Sex</th>\n",
       "      <th>Age</th>\n",
       "      <th>SibSp</th>\n",
       "      <th>Parch</th>\n",
       "      <th>Ticket</th>\n",
       "      <th>Fare</th>\n",
       "      <th>Cabin</th>\n",
       "      <th>Embarked</th>\n",
       "    </tr>\n",
       "  </thead>\n",
       "  <tbody>\n",
       "    <tr>\n",
       "      <th>0</th>\n",
       "      <td>1</td>\n",
       "      <td>0</td>\n",
       "      <td>3</td>\n",
       "      <td>Braund, Mr. Owen Harris</td>\n",
       "      <td>male</td>\n",
       "      <td>22.0</td>\n",
       "      <td>1</td>\n",
       "      <td>0</td>\n",
       "      <td>A/5 21171</td>\n",
       "      <td>7.2500</td>\n",
       "      <td>NaN</td>\n",
       "      <td>S</td>\n",
       "    </tr>\n",
       "    <tr>\n",
       "      <th>1</th>\n",
       "      <td>2</td>\n",
       "      <td>1</td>\n",
       "      <td>1</td>\n",
       "      <td>Cumings, Mrs. John Bradley (Florence Briggs Th...</td>\n",
       "      <td>female</td>\n",
       "      <td>38.0</td>\n",
       "      <td>1</td>\n",
       "      <td>0</td>\n",
       "      <td>PC 17599</td>\n",
       "      <td>71.2833</td>\n",
       "      <td>C85</td>\n",
       "      <td>C</td>\n",
       "    </tr>\n",
       "    <tr>\n",
       "      <th>2</th>\n",
       "      <td>3</td>\n",
       "      <td>1</td>\n",
       "      <td>3</td>\n",
       "      <td>Heikkinen, Miss. Laina</td>\n",
       "      <td>female</td>\n",
       "      <td>26.0</td>\n",
       "      <td>0</td>\n",
       "      <td>0</td>\n",
       "      <td>STON/O2. 3101282</td>\n",
       "      <td>7.9250</td>\n",
       "      <td>NaN</td>\n",
       "      <td>S</td>\n",
       "    </tr>\n",
       "    <tr>\n",
       "      <th>3</th>\n",
       "      <td>4</td>\n",
       "      <td>1</td>\n",
       "      <td>1</td>\n",
       "      <td>Futrelle, Mrs. Jacques Heath (Lily May Peel)</td>\n",
       "      <td>female</td>\n",
       "      <td>35.0</td>\n",
       "      <td>1</td>\n",
       "      <td>0</td>\n",
       "      <td>113803</td>\n",
       "      <td>53.1000</td>\n",
       "      <td>C123</td>\n",
       "      <td>S</td>\n",
       "    </tr>\n",
       "    <tr>\n",
       "      <th>4</th>\n",
       "      <td>5</td>\n",
       "      <td>0</td>\n",
       "      <td>3</td>\n",
       "      <td>Allen, Mr. William Henry</td>\n",
       "      <td>male</td>\n",
       "      <td>35.0</td>\n",
       "      <td>0</td>\n",
       "      <td>0</td>\n",
       "      <td>373450</td>\n",
       "      <td>8.0500</td>\n",
       "      <td>NaN</td>\n",
       "      <td>S</td>\n",
       "    </tr>\n",
       "  </tbody>\n",
       "</table>\n",
       "</div>"
      ],
      "text/plain": [
       "   PassengerId  Survived  Pclass  \\\n",
       "0            1         0       3   \n",
       "1            2         1       1   \n",
       "2            3         1       3   \n",
       "3            4         1       1   \n",
       "4            5         0       3   \n",
       "\n",
       "                                                Name     Sex   Age  SibSp  \\\n",
       "0                            Braund, Mr. Owen Harris    male  22.0      1   \n",
       "1  Cumings, Mrs. John Bradley (Florence Briggs Th...  female  38.0      1   \n",
       "2                             Heikkinen, Miss. Laina  female  26.0      0   \n",
       "3       Futrelle, Mrs. Jacques Heath (Lily May Peel)  female  35.0      1   \n",
       "4                           Allen, Mr. William Henry    male  35.0      0   \n",
       "\n",
       "   Parch            Ticket     Fare Cabin Embarked  \n",
       "0      0         A/5 21171   7.2500   NaN        S  \n",
       "1      0          PC 17599  71.2833   C85        C  \n",
       "2      0  STON/O2. 3101282   7.9250   NaN        S  \n",
       "3      0            113803  53.1000  C123        S  \n",
       "4      0            373450   8.0500   NaN        S  "
      ]
     },
     "execution_count": 2,
     "metadata": {},
     "output_type": "execute_result"
    }
   ],
   "source": [
    "dataset = pd.read_csv('titanic.csv')\n",
    "dataset.head()\n"
   ]
  },
  {
   "cell_type": "code",
   "execution_count": 3,
   "id": "50ad99ae",
   "metadata": {},
   "outputs": [
    {
     "name": "stdout",
     "output_type": "stream",
     "text": [
      "<class 'pandas.core.frame.DataFrame'>\n",
      "RangeIndex: 891 entries, 0 to 890\n",
      "Data columns (total 12 columns):\n",
      " #   Column       Non-Null Count  Dtype  \n",
      "---  ------       --------------  -----  \n",
      " 0   PassengerId  891 non-null    int64  \n",
      " 1   Survived     891 non-null    int64  \n",
      " 2   Pclass       891 non-null    int64  \n",
      " 3   Name         891 non-null    object \n",
      " 4   Sex          891 non-null    object \n",
      " 5   Age          714 non-null    float64\n",
      " 6   SibSp        891 non-null    int64  \n",
      " 7   Parch        891 non-null    int64  \n",
      " 8   Ticket       891 non-null    object \n",
      " 9   Fare         891 non-null    float64\n",
      " 10  Cabin        204 non-null    object \n",
      " 11  Embarked     889 non-null    object \n",
      "dtypes: float64(2), int64(5), object(5)\n",
      "memory usage: 83.7+ KB\n"
     ]
    }
   ],
   "source": [
    "dataset.info()"
   ]
  },
  {
   "cell_type": "markdown",
   "id": "3e59e722",
   "metadata": {},
   "source": [
    "## 代码解释器工具测试"
   ]
  },
  {
   "cell_type": "code",
   "execution_count": 4,
   "id": "6aeb2395",
   "metadata": {},
   "outputs": [],
   "source": [
    "import pandas as pd\n",
    "from langchain_core.prompts import ChatPromptTemplate\n",
    "from langchain_experimental.tools import PythonAstREPLTool"
   ]
  },
  {
   "cell_type": "code",
   "execution_count": 5,
   "id": "56e8e0f0",
   "metadata": {},
   "outputs": [
    {
     "data": {
      "text/plain": [
       "np.float64(29.69911764705882)"
      ]
     },
     "execution_count": 5,
     "metadata": {},
     "output_type": "execute_result"
    }
   ],
   "source": [
    "tool = PythonAstREPLTool(locals={\"df\": dataset})\n",
    "tool.invoke(\"df['Age'].mean()\")"
   ]
  },
  {
   "cell_type": "code",
   "execution_count": 6,
   "id": "4cf2ef88",
   "metadata": {},
   "outputs": [
    {
     "data": {
      "text/plain": [
       "np.float64(29.69911764705882)"
      ]
     },
     "execution_count": 6,
     "metadata": {},
     "output_type": "execute_result"
    }
   ],
   "source": [
    "dataset['Age'].mean()"
   ]
  },
  {
   "cell_type": "markdown",
   "id": "6603d9c0",
   "metadata": {},
   "source": [
    "## LangChain工作流并绑定内置工具"
   ]
  },
  {
   "cell_type": "code",
   "execution_count": 7,
   "id": "9e85cbf8",
   "metadata": {},
   "outputs": [],
   "source": [
    "import os\n",
    "from dotenv import load_dotenv \n",
    "load_dotenv(override=True)\n",
    "\n",
    "from langchain_core.messages import AIMessage, HumanMessage, SystemMessage\n",
    "from langchain_core.prompts import ChatPromptTemplate, MessagesPlaceholder\n",
    "from langchain.chat_models import init_chat_model\n",
    "from langchain_core.output_parsers import StrOutputParser"
   ]
  },
  {
   "cell_type": "code",
   "execution_count": 8,
   "id": "bb2ad34d",
   "metadata": {},
   "outputs": [],
   "source": [
    "model  = init_chat_model(model=\"deepseek-chat\", model_provider=\"deepseek\")"
   ]
  },
  {
   "cell_type": "code",
   "execution_count": 9,
   "id": "c3f8a7cb",
   "metadata": {},
   "outputs": [],
   "source": [
    "llm_with_tools = model.bind_tools([tool])"
   ]
  },
  {
   "cell_type": "code",
   "execution_count": 10,
   "id": "a7d40e96",
   "metadata": {},
   "outputs": [
    {
     "data": {
      "text/plain": [
       "AIMessage(content=\"我来帮您计算'dataset'表中'Fare'字段的均值。首先让我查看一下数据表的结构和内容。\", additional_kwargs={'tool_calls': [{'id': 'call_00_saASh8kWx8ZqaTxOpZjjfKBG', 'function': {'arguments': '{\"query\": \"import pandas as pd\\\\n\\\\n# 假设数据表已经加载为名为\\'dataset\\'的DataFrame\\\\n# 首先检查数据表是否存在以及Fare字段的情况\\\\ntry:\\\\n    # 查看数据表的基本信息\\\\n    print(\\\\\"数据表形状:\\\\\", dataset.shape)\\\\n    print(\\\\\"\\\\\\\\n数据表列名:\\\\\")\\\\n    print(dataset.columns.tolist())\\\\n    print(\\\\\"\\\\\\\\nFare字段的前几行:\\\\\")\\\\n    print(dataset[\\'Fare\\'].head())\\\\n    print(\\\\\"\\\\\\\\nFare字段的描述性统计:\\\\\")\\\\n    print(dataset[\\'Fare\\'].describe())\\\\nexcept NameError:\\\\n    print(\\\\\"错误: 未找到名为\\'dataset\\'的数据表\\\\\")\\\\nexcept KeyError:\\\\n    print(\\\\\"错误: 数据表中没有\\'Fare\\'字段\\\\\")\\\\nexcept Exception as e:\\\\n    print(f\\\\\"发生错误: {e}\\\\\")\"}', 'name': 'python_repl_ast'}, 'type': 'function', 'index': 0}], 'refusal': None}, response_metadata={'token_usage': {'completion_tokens': 246, 'prompt_tokens': 212, 'total_tokens': 458, 'completion_tokens_details': None, 'prompt_tokens_details': {'audio_tokens': None, 'cached_tokens': 192}, 'prompt_cache_hit_tokens': 192, 'prompt_cache_miss_tokens': 20}, 'model_name': 'deepseek-chat', 'system_fingerprint': 'fp_ffc7281d48_prod0820_fp8_kvcache', 'id': 'd0ad361b-36be-4f5a-88fc-7de7a30e666b', 'service_tier': None, 'finish_reason': 'tool_calls', 'logprobs': None}, id='run--e5891cef-e695-4ad4-bd1e-0878c825b3b6-0', tool_calls=[{'name': 'python_repl_ast', 'args': {'query': 'import pandas as pd\\n\\n# 假设数据表已经加载为名为\\'dataset\\'的DataFrame\\n# 首先检查数据表是否存在以及Fare字段的情况\\ntry:\\n    # 查看数据表的基本信息\\n    print(\"数据表形状:\", dataset.shape)\\n    print(\"\\\\n数据表列名:\")\\n    print(dataset.columns.tolist())\\n    print(\"\\\\nFare字段的前几行:\")\\n    print(dataset[\\'Fare\\'].head())\\n    print(\"\\\\nFare字段的描述性统计:\")\\n    print(dataset[\\'Fare\\'].describe())\\nexcept NameError:\\n    print(\"错误: 未找到名为\\'dataset\\'的数据表\")\\nexcept KeyError:\\n    print(\"错误: 数据表中没有\\'Fare\\'字段\")\\nexcept Exception as e:\\n    print(f\"发生错误: {e}\")'}, 'id': 'call_00_saASh8kWx8ZqaTxOpZjjfKBG', 'type': 'tool_call'}], usage_metadata={'input_tokens': 212, 'output_tokens': 246, 'total_tokens': 458, 'input_token_details': {'cache_read': 192}, 'output_token_details': {}})"
      ]
     },
     "execution_count": 10,
     "metadata": {},
     "output_type": "execute_result"
    }
   ],
   "source": [
    "response = llm_with_tools.invoke(\n",
    "    \"我有一张表，名为'dataset'，请帮我计算Fare字段的均值。\"\n",
    ")\n",
    "response"
   ]
  },
  {
   "cell_type": "code",
   "execution_count": 11,
   "id": "296c7399",
   "metadata": {},
   "outputs": [],
   "source": [
    "from langchain_core.output_parsers.openai_tools import JsonOutputKeyToolsParser"
   ]
  },
  {
   "cell_type": "code",
   "execution_count": 12,
   "id": "6449b568",
   "metadata": {},
   "outputs": [],
   "source": [
    "parser = JsonOutputKeyToolsParser(key_name=tool.name, first_tool_only=True)"
   ]
  },
  {
   "cell_type": "code",
   "execution_count": 13,
   "id": "9244d3c6",
   "metadata": {},
   "outputs": [],
   "source": [
    "llm_chain = llm_with_tools | parser"
   ]
  },
  {
   "cell_type": "code",
   "execution_count": 14,
   "id": "7c78af0d",
   "metadata": {},
   "outputs": [
    {
     "data": {
      "text/plain": [
       "{'query': \"df['Age'].mean()\"}"
      ]
     },
     "execution_count": 14,
     "metadata": {},
     "output_type": "execute_result"
    }
   ],
   "source": [
    "llm_chain.invoke(\"我有一张表，名为'df'，请帮我计算Age字段的均值。\")"
   ]
  },
  {
   "cell_type": "markdown",
   "id": "4abc366e",
   "metadata": {},
   "source": [
    "## 接入tool"
   ]
  },
  {
   "cell_type": "code",
   "execution_count": 23,
   "id": "f6f6342d",
   "metadata": {},
   "outputs": [],
   "source": [
    "system = f\"\"\"\n",
    "你可以访问一个名为 `df` 的 pandas 数据框，请根据用户提出的问题，编写 Python 代码来回答。只返回代码，不返回其他内容。只允许使用 pandas 和内置库。\n",
    "\"\"\""
   ]
  },
  {
   "cell_type": "code",
   "execution_count": 24,
   "id": "0c6aadb6",
   "metadata": {},
   "outputs": [],
   "source": [
    "prompt = ChatPromptTemplate([\n",
    "    (\"system\", system),\n",
    "    (\"user\", \"{question}\")\n",
    "])"
   ]
  },
  {
   "cell_type": "code",
   "execution_count": 25,
   "id": "27118131",
   "metadata": {},
   "outputs": [
    {
     "data": {
      "text/plain": [
       "np.float64(29.69911764705882)"
      ]
     },
     "execution_count": 25,
     "metadata": {},
     "output_type": "execute_result"
    }
   ],
   "source": [
    "chain = prompt | llm_with_tools | parser | tool\n",
    "chain.invoke({\"question\": \"请计算Age字段的均值。\"})"
   ]
  },
  {
   "cell_type": "code",
   "execution_count": null,
   "id": "b91a61f9",
   "metadata": {},
   "outputs": [
    {
     "data": {
      "text/plain": [
       "np.float64(0.09606669176903912)"
      ]
     },
     "execution_count": 26,
     "metadata": {},
     "output_type": "execute_result"
    }
   ],
   "source": [
    "chain.invoke({\"question\": \"请计算Age字段和Fare字段的相关系数。\"})"
   ]
  },
  {
   "cell_type": "code",
   "execution_count": 28,
   "id": "c1773b35",
   "metadata": {},
   "outputs": [
    {
     "data": {
      "text/plain": [
       "Pclass\n",
       "1    38.233441\n",
       "2    29.877630\n",
       "3    25.140620\n",
       "Name: Age, dtype: float64"
      ]
     },
     "execution_count": 28,
     "metadata": {},
     "output_type": "execute_result"
    }
   ],
   "source": [
    "chain.invoke({\"question\": \"请按照Pclass 字段计算Age字段的均值。\"})"
   ]
  },
  {
   "cell_type": "markdown",
   "id": "41969ccd",
   "metadata": {},
   "source": [
    "## 打印中间结果"
   ]
  },
  {
   "cell_type": "code",
   "execution_count": 30,
   "id": "2eb3fa03",
   "metadata": {},
   "outputs": [],
   "source": [
    "from langchain_core.runnables import RunnableLambda\n",
    "\n",
    "def code_print(res):\n",
    "    print(\"即将运行Python代码:\", res['query'])\n",
    "    return res\n",
    "\n",
    "print_node = RunnableLambda(code_print)"
   ]
  },
  {
   "cell_type": "code",
   "execution_count": 31,
   "id": "6fb7c47c",
   "metadata": {},
   "outputs": [
    {
     "name": "stdout",
     "output_type": "stream",
     "text": [
      "即将运行Python代码: import pandas as pd\n",
      "\n",
      "# 计算Age字段和Fare字段的相关系数\n",
      "correlation = df['Age'].corr(df['Fare'])\n",
      "print(f\"Age和Fare的相关系数为: {correlation}\")\n"
     ]
    },
    {
     "data": {
      "text/plain": [
       "'Age和Fare的相关系数为: 0.09606669176903888\\n'"
      ]
     },
     "execution_count": 31,
     "metadata": {},
     "output_type": "execute_result"
    }
   ],
   "source": [
    "print_code_chain = prompt | llm_with_tools | parser | print_node | tool\n",
    "print_code_chain.invoke({\"question\": \"请计算Age字段和Fare字段的相关系数。\"})"
   ]
  },
  {
   "cell_type": "markdown",
   "id": "d7d76838",
   "metadata": {},
   "source": [
    "# 自定义外部工具"
   ]
  },
  {
   "cell_type": "code",
   "execution_count": 1,
   "id": "2b70ef81",
   "metadata": {},
   "outputs": [],
   "source": [
    "import os\n",
    "from dotenv import load_dotenv \n",
    "load_dotenv(override=True)\n",
    "\n",
    "OPENWEATHER_API_KEY = os.getenv(\"OPENWEATHER_API_KEY\")"
   ]
  },
  {
   "cell_type": "code",
   "execution_count": 2,
   "id": "a3027924",
   "metadata": {},
   "outputs": [],
   "source": [
    "import requests,json"
   ]
  },
  {
   "cell_type": "code",
   "execution_count": 3,
   "id": "ce697837",
   "metadata": {},
   "outputs": [],
   "source": [
    "def get_weather(loc):\n",
    "    \"\"\"\n",
    "    查询即时天气函数\n",
    "    :param loc: 必要参数，字符串类型，用于表示查询天气的具体城市名称，\\\n",
    "    注意，中国的城市需要用对应城市的英文名称代替，例如如果需要查询北京市天气，则loc参数需要输入'Beijing'；\n",
    "    :return：OpenWeather API查询即时天气的结果，具体URL请求地址为：https://api.openweathermap.org/data/2.5/weather\\\n",
    "    返回结果对象类型为解析之后的JSON格式对象，并用字符串形式进行表示，其中包含了全部重要的天气信息\n",
    "    \"\"\"\n",
    "    # Step 1.构建请求\n",
    "    url = \"https://api.openweathermap.org/data/2.5/weather\"\n",
    "\n",
    "    # Step 2.设置查询参数\n",
    "    params = {\n",
    "        \"q\": loc,               \n",
    "        \"appid\": os.getenv(\"OPENWEATHER_API_KEY\"),    # 输入API key\n",
    "        \"units\": \"metric\",            # 使用摄氏度而不是华氏度\n",
    "        \"lang\":\"zh_cn\"                # 输出语言为简体中文\n",
    "    }\n",
    "\n",
    "    # Step 3.发送GET请求\n",
    "    response = requests.get(url, params=params)\n",
    "    \n",
    "    # Step 4.解析响应\n",
    "    data = response.json()\n",
    "    return json.dumps(data)"
   ]
  },
  {
   "cell_type": "code",
   "execution_count": 5,
   "id": "32c499b5",
   "metadata": {},
   "outputs": [
    {
     "data": {
      "text/plain": [
       "'{\"coord\": {\"lon\": 120.1614, \"lat\": 30.2937}, \"weather\": [{\"id\": 800, \"main\": \"Clear\", \"description\": \"\\\\u6674\", \"icon\": \"01n\"}], \"base\": \"stations\", \"main\": {\"temp\": 17.95, \"feels_like\": 17.76, \"temp_min\": 17.95, \"temp_max\": 17.95, \"pressure\": 1025, \"humidity\": 75, \"sea_level\": 1025, \"grnd_level\": 1022}, \"visibility\": 10000, \"wind\": {\"speed\": 1.94, \"deg\": 4, \"gust\": 4.35}, \"clouds\": {\"all\": 2}, \"dt\": 1761317352, \"sys\": {\"type\": 1, \"id\": 9651, \"country\": \"CN\", \"sunrise\": 1761257236, \"sunset\": 1761297576}, \"timezone\": 28800, \"id\": 1808926, \"name\": \"Hangzhou\", \"cod\": 200}'"
      ]
     },
     "execution_count": 5,
     "metadata": {},
     "output_type": "execute_result"
    }
   ],
   "source": [
    "get_weather(\"hangzhou\")"
   ]
  },
  {
   "cell_type": "markdown",
   "id": "586af9ce",
   "metadata": {},
   "source": [
    "## 封装成工具"
   ]
  },
  {
   "cell_type": "code",
   "execution_count": 6,
   "id": "468ff609",
   "metadata": {},
   "outputs": [],
   "source": [
    "from langchain_core.tools import tool"
   ]
  },
  {
   "cell_type": "code",
   "execution_count": 7,
   "id": "284dce4e",
   "metadata": {},
   "outputs": [],
   "source": [
    "@tool\n",
    "def get_weather(loc):\n",
    "    \"\"\"\n",
    "    查询即时天气函数\n",
    "    :param loc: 必要参数，字符串类型，用于表示查询天气的具体城市名称，\\\n",
    "    注意，中国的城市需要用对应城市的英文名称代替，例如如果需要查询北京市天气，则loc参数需要输入'Beijing'；\n",
    "    :return：OpenWeather API查询即时天气的结果，具体URL请求地址为：https://api.openweathermap.org/data/2.5/weather\\\n",
    "    返回结果对象类型为解析之后的JSON格式对象，并用字符串形式进行表示，其中包含了全部重要的天气信息\n",
    "    \"\"\"\n",
    "    # Step 1.构建请求\n",
    "    url = \"https://api.openweathermap.org/data/2.5/weather\"\n",
    "\n",
    "    # Step 2.设置查询参数\n",
    "    params = {\n",
    "        \"q\": loc,               \n",
    "        \"appid\": os.getenv(\"OPENWEATHER_API_KEY\"),    # 输入API key\n",
    "        \"units\": \"metric\",            # 使用摄氏度而不是华氏度\n",
    "        \"lang\":\"zh_cn\"                # 输出语言为简体中文\n",
    "    }\n",
    "\n",
    "    # Step 3.发送GET请求\n",
    "    response = requests.get(url, params=params)\n",
    "    \n",
    "    # Step 4.解析响应\n",
    "    data = response.json()\n",
    "    return json.dumps(data)"
   ]
  },
  {
   "cell_type": "code",
   "execution_count": 8,
   "id": "fd779f98",
   "metadata": {},
   "outputs": [
    {
     "name": "stdout",
     "output_type": "stream",
     "text": [
      "get_weather\n",
      "查询即时天气函数\n",
      ":param loc: 必要参数，字符串类型，用于表示查询天气的具体城市名称，    注意，中国的城市需要用对应城市的英文名称代替，例如如果需要查询北京市天气，则loc参数需要输入'Beijing'；\n",
      ":return：OpenWeather API查询即时天气的结果，具体URL请求地址为：https://api.openweathermap.org/data/2.5/weather    返回结果对象类型为解析之后的JSON格式对象，并用字符串形式进行表示，其中包含了全部重要的天气信息\n",
      "{'loc': {'title': 'Loc'}}\n"
     ]
    }
   ],
   "source": [
    "print(get_weather.name)\n",
    "print(get_weather.description)\n",
    "print(get_weather.args)"
   ]
  },
  {
   "cell_type": "code",
   "execution_count": 9,
   "id": "83bb50b5",
   "metadata": {},
   "outputs": [],
   "source": [
    "from langchain.chat_models import init_chat_model\n",
    "\n",
    "# 初始化模型\n",
    "model = init_chat_model(\"deepseek-chat\", model_provider=\"deepseek\")"
   ]
  },
  {
   "cell_type": "code",
   "execution_count": 10,
   "id": "e042b58f",
   "metadata": {},
   "outputs": [],
   "source": [
    "# 定义 天气查询 工具函数\n",
    "tools = [get_weather]\n",
    "\n",
    "# 将工具绑定到模型\n",
    "llm_with_tools = model.bind_tools(tools)"
   ]
  },
  {
   "cell_type": "code",
   "execution_count": 11,
   "id": "f4d98c1b",
   "metadata": {},
   "outputs": [
    {
     "name": "stdout",
     "output_type": "stream",
     "text": [
      "content='我来帮您查询杭州的天气情况。' additional_kwargs={'tool_calls': [{'id': 'call_00_fAeFff70ejt1xNCAiZvasSaG', 'function': {'arguments': '{\"loc\": \"Hangzhou\"}', 'name': 'get_weather'}, 'type': 'function', 'index': 0}], 'refusal': None} response_metadata={'token_usage': {'completion_tokens': 25, 'prompt_tokens': 251, 'total_tokens': 276, 'completion_tokens_details': None, 'prompt_tokens_details': {'audio_tokens': None, 'cached_tokens': 0}, 'prompt_cache_hit_tokens': 0, 'prompt_cache_miss_tokens': 251}, 'model_name': 'deepseek-chat', 'system_fingerprint': 'fp_ffc7281d48_prod0820_fp8_kvcache', 'id': 'a5d535bf-d141-4efa-a277-c26d2c0b5e22', 'service_tier': None, 'finish_reason': 'tool_calls', 'logprobs': None} id='run--317f2959-3cf0-42f0-95d6-2bf050199e27-0' tool_calls=[{'name': 'get_weather', 'args': {'loc': 'Hangzhou'}, 'id': 'call_00_fAeFff70ejt1xNCAiZvasSaG', 'type': 'tool_call'}] usage_metadata={'input_tokens': 251, 'output_tokens': 25, 'total_tokens': 276, 'input_token_details': {'cache_read': 0}, 'output_token_details': {}}\n"
     ]
    }
   ],
   "source": [
    "response = llm_with_tools.invoke(\"你好， 请问杭州的天气怎么样？\")\n",
    "\n",
    "print(response)"
   ]
  },
  {
   "cell_type": "code",
   "execution_count": 12,
   "id": "c859786b",
   "metadata": {},
   "outputs": [
    {
     "data": {
      "text/plain": [
       "{'tool_calls': [{'id': 'call_00_fAeFff70ejt1xNCAiZvasSaG',\n",
       "   'function': {'arguments': '{\"loc\": \"Hangzhou\"}', 'name': 'get_weather'},\n",
       "   'type': 'function',\n",
       "   'index': 0}],\n",
       " 'refusal': None}"
      ]
     },
     "execution_count": 12,
     "metadata": {},
     "output_type": "execute_result"
    }
   ],
   "source": [
    "response.additional_kwargs"
   ]
  },
  {
   "cell_type": "code",
   "execution_count": 13,
   "id": "1f596843",
   "metadata": {},
   "outputs": [],
   "source": [
    "from langchain_core.output_parsers.openai_tools import JsonOutputKeyToolsParser"
   ]
  },
  {
   "cell_type": "code",
   "execution_count": 14,
   "id": "e1101c66",
   "metadata": {},
   "outputs": [],
   "source": [
    "parser = JsonOutputKeyToolsParser(key_name=get_weather.name, first_tool_only=True)"
   ]
  },
  {
   "cell_type": "code",
   "execution_count": 15,
   "id": "be9b29a1",
   "metadata": {},
   "outputs": [],
   "source": [
    "llm_chain = llm_with_tools | parser"
   ]
  },
  {
   "cell_type": "code",
   "execution_count": 16,
   "id": "83f612b3",
   "metadata": {},
   "outputs": [
    {
     "data": {
      "text/plain": [
       "{'loc': 'Hangzhou'}"
      ]
     },
     "execution_count": 16,
     "metadata": {},
     "output_type": "execute_result"
    }
   ],
   "source": [
    "llm_chain.invoke(\"请问杭州今天天气如何？\")"
   ]
  },
  {
   "cell_type": "code",
   "execution_count": 18,
   "id": "85b44d88",
   "metadata": {},
   "outputs": [],
   "source": [
    "get_weather_chain = llm_with_tools | parser | get_weather"
   ]
  },
  {
   "cell_type": "code",
   "execution_count": 19,
   "id": "5d932305",
   "metadata": {},
   "outputs": [
    {
     "data": {
      "text/plain": [
       "'{\"coord\": {\"lon\": 120.1614, \"lat\": 30.2937}, \"weather\": [{\"id\": 800, \"main\": \"Clear\", \"description\": \"\\\\u6674\", \"icon\": \"01n\"}], \"base\": \"stations\", \"main\": {\"temp\": 17.95, \"feels_like\": 17.76, \"temp_min\": 17.95, \"temp_max\": 17.95, \"pressure\": 1025, \"humidity\": 75, \"sea_level\": 1025, \"grnd_level\": 1022}, \"visibility\": 10000, \"wind\": {\"speed\": 1.94, \"deg\": 4, \"gust\": 4.35}, \"clouds\": {\"all\": 2}, \"dt\": 1761317352, \"sys\": {\"type\": 1, \"id\": 9651, \"country\": \"CN\", \"sunrise\": 1761257236, \"sunset\": 1761297576}, \"timezone\": 28800, \"id\": 1808926, \"name\": \"Hangzhou\", \"cod\": 200}'"
      ]
     },
     "execution_count": 19,
     "metadata": {},
     "output_type": "execute_result"
    }
   ],
   "source": [
    "get_weather_chain.invoke(\"请问杭州今天天气如何？\")"
   ]
  },
  {
   "cell_type": "code",
   "execution_count": 20,
   "id": "bf5a44f0",
   "metadata": {},
   "outputs": [],
   "source": [
    "from langchain.prompts import PromptTemplate\n",
    "from langchain_core.output_parsers import StrOutputParser\n",
    "\n",
    "# Prompt 模板\n",
    "output_prompt = PromptTemplate.from_template(\n",
    "    \"\"\"你将收到一段 JSON 格式的天气数据，请用简洁自然的方式将其转述给用户。\n",
    "以下是天气 JSON 数据：\n",
    "\n",
    "```json\n",
    "{weather_json}\n",
    "```\n",
    "\n",
    "请将其转换为中文天气描述，例如：\n",
    "“北京当前天气晴，气温为 23°C，湿度 58%，风速 2.1 米/秒。”\n",
    "只返回一句话描述，不要其他说明或解释。\"\"\"\n",
    ")"
   ]
  },
  {
   "cell_type": "code",
   "execution_count": 21,
   "id": "037c6ce4",
   "metadata": {},
   "outputs": [],
   "source": [
    "output_chain = output_prompt | model | StrOutputParser()"
   ]
  },
  {
   "cell_type": "code",
   "execution_count": 22,
   "id": "11320aaa",
   "metadata": {},
   "outputs": [
    {
     "name": "stdout",
     "output_type": "stream",
     "text": [
      "杭州当前天气晴，气温为 18°C，湿度 75%，风速 1.94 米/秒。\n"
     ]
    }
   ],
   "source": [
    "weather_json = '{\"coord\": {\"lon\": 120.1614, \"lat\": 30.2937}, \"weather\": [{\"id\": 800, \"main\": \"Clear\", \"description\": \"\\\\u6674\", \"icon\": \"01n\"}], \"base\": \"stations\", \"main\": {\"temp\": 17.95, \"feels_like\": 17.76, \"temp_min\": 17.95, \"temp_max\": 17.95, \"pressure\": 1025, \"humidity\": 75, \"sea_level\": 1025, \"grnd_level\": 1022}, \"visibility\": 10000, \"wind\": {\"speed\": 1.94, \"deg\": 4, \"gust\": 4.35}, \"clouds\": {\"all\": 2}, \"dt\": 1761317352, \"sys\": {\"type\": 1, \"id\": 9651, \"country\": \"CN\", \"sunrise\": 1761257236, \"sunset\": 1761297576}, \"timezone\": 28800, \"id\": 1808926, \"name\": \"Hangzhou\", \"cod\": 200}'\n",
    "\n",
    "result = output_chain.invoke({\"weather_json\": weather_json})\n",
    "print(result)"
   ]
  },
  {
   "cell_type": "code",
   "execution_count": 23,
   "id": "27393c64",
   "metadata": {},
   "outputs": [
    {
     "name": "stdout",
     "output_type": "stream",
     "text": [
      "杭州当前天气晴，气温为18°C，湿度75%，风速1.94米/秒。\n"
     ]
    }
   ],
   "source": [
    "full_chain = get_weather_chain | output_chain\n",
    "response = full_chain.invoke(\"请问杭州今天的天气如何？\")\n",
    "print(response)"
   ]
  },
  {
   "cell_type": "code",
   "execution_count": null,
   "id": "5677723a",
   "metadata": {},
   "outputs": [],
   "source": []
  }
 ],
 "metadata": {
  "kernelspec": {
   "display_name": "lc",
   "language": "python",
   "name": "python3"
  },
  "language_info": {
   "codemirror_mode": {
    "name": "ipython",
    "version": 3
   },
   "file_extension": ".py",
   "mimetype": "text/x-python",
   "name": "python",
   "nbconvert_exporter": "python",
   "pygments_lexer": "ipython3",
   "version": "3.12.0"
  }
 },
 "nbformat": 4,
 "nbformat_minor": 5
}
