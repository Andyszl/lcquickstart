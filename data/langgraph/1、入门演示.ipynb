{
 "cells": [
  {
   "cell_type": "code",
   "execution_count": 6,
   "id": "71f4a55d",
   "metadata": {},
   "outputs": [],
   "source": [
    "import os\n",
    "from dotenv import load_dotenv \n",
    "load_dotenv(override=True)\n",
    "\n",
    "DeepSeek_API_KEY = os.getenv(\"DEEPSEEK_API_KEY\")\n",
    "# print(DeepSeek_API_KEY)  # 可以通过打印查看"
   ]
  },
  {
   "cell_type": "markdown",
   "id": "3ef6c926",
   "metadata": {},
   "source": [
    "### 初始化模型"
   ]
  },
  {
   "cell_type": "code",
   "execution_count": 7,
   "id": "7abda6c6",
   "metadata": {},
   "outputs": [],
   "source": [
    "from langchain.chat_models import init_chat_model\n",
    "\n",
    "model = init_chat_model(model=\"deepseek-chat\", model_provider=\"deepseek\")  "
   ]
  },
  {
   "cell_type": "code",
   "execution_count": 3,
   "id": "63aa4280",
   "metadata": {},
   "outputs": [
    {
     "name": "stdout",
     "output_type": "stream",
     "text": [
      "你好！很高兴认识你！😊\n",
      "\n",
      "我是DeepSeek，由深度求索公司创造的AI助手。让我来详细介绍一下自己：\n",
      "\n",
      "**基本信息：**\n",
      "- 我是一个纯文本AI模型，专注于理解和生成自然语言\n",
      "- 知识截止到2024年7月，是DeepSeek的最新版本\n",
      "\n",
      "**我的能力：**\n",
      "- 💬 对话交流，回答各种问题\n",
      "- 📝 文本创作、编辑、翻译\n",
      "- 🔍 知识问答和分析\n",
      "- 📚 学习辅导和解题\n",
      "- 📄 文件处理 - 支持上传图像、txt、pdf、ppt、word、excel文件，并从中读取文字信息\n",
      "- 🌐 联网搜索（需要你在Web/App手动开启）\n",
      "\n",
      "**使用方式：**\n",
      "- 完全免费使用，没有任何收费计划\n",
      "- 上下文长度128K，可以处理很长的对话\n",
      "- 可以通过官方应用商店下载App使用\n",
      "\n",
      "**我的特点：**\n",
      "- 热情细腻的交流风格\n",
      "- 乐于助人，尽力提供准确有用的回答\n",
      "- 会诚实地承认不知道的事情\n",
      "\n",
      "有什么问题或者想聊的话题吗？我很乐意帮助你！✨\n"
     ]
    }
   ],
   "source": [
    "question = \"你好，请你介绍一下你自己。\"\n",
    "\n",
    "result = model.invoke(question)\n",
    "print(result.content)"
   ]
  },
  {
   "cell_type": "code",
   "execution_count": 4,
   "id": "35f80a43",
   "metadata": {},
   "outputs": [
    {
     "data": {
      "text/plain": [
       "{'refusal': None}"
      ]
     },
     "execution_count": 4,
     "metadata": {},
     "output_type": "execute_result"
    }
   ],
   "source": [
    "result.additional_kwargs"
   ]
  },
  {
   "cell_type": "markdown",
   "id": "ae956e61",
   "metadata": {},
   "source": [
    "### 创建LangGraph智能体"
   ]
  },
  {
   "cell_type": "code",
   "execution_count": 1,
   "id": "346ce021",
   "metadata": {},
   "outputs": [],
   "source": [
    "from langchain_core.tools import tool\n",
    "from pydantic import BaseModel, Field\n",
    "import requests,json\n",
    "\n",
    "class WeatherQuery(BaseModel):\n",
    "    loc: str = Field(description=\"The location name of the city\")\n",
    "\n",
    "@tool(args_schema = WeatherQuery)\n",
    "def get_weather(loc):\n",
    "    \"\"\"\n",
    "    查询即时天气函数\n",
    "    :param loc: 必要参数，字符串类型，用于表示查询天气的具体城市名称，\\\n",
    "    注意，中国的城市需要用对应城市的英文名称代替，例如如果需要查询北京市天气，则loc参数需要输入'Beijing'；\n",
    "    :return：OpenWeather API查询即时天气的结果，具体URL请求地址为：https://api.openweathermap.org/data/2.5/weather\\\n",
    "    返回结果对象类型为解析之后的JSON格式对象，并用字符串形式进行表示，其中包含了全部重要的天气信息\n",
    "    \"\"\"\n",
    "    # Step 1.构建请求\n",
    "    url = \"https://api.openweathermap.org/data/2.5/weather\"\n",
    "\n",
    "    # Step 2.设置查询参数\n",
    "    params = {\n",
    "        \"q\": loc,               \n",
    "        \"appid\": os.getenv(\"OPENWEATHER_API_KEY\"),    # 输入API key\n",
    "        \"units\": \"metric\",            # 使用摄氏度而不是华氏度\n",
    "        \"lang\":\"zh_cn\"                # 输出语言为简体中文\n",
    "    }\n",
    "\n",
    "    # Step 3.发送GET请求\n",
    "    response = requests.get(url, params=params)\n",
    "    \n",
    "    # Step 4.解析响应\n",
    "    data = response.json()\n",
    "    return json.dumps(data)"
   ]
  },
  {
   "cell_type": "code",
   "execution_count": 2,
   "id": "ff538bd5",
   "metadata": {},
   "outputs": [
    {
     "name": "stdout",
     "output_type": "stream",
     "text": [
      "\n",
      "name: get_weather\n",
      "description: 查询即时天气函数\n",
      ":param loc: 必要参数，字符串类型，用于表示查询天气的具体城市名称，    注意，中国的城市需要用对应城市的英文名称代替，例如如果需要查询北京市天气，则loc参数需要输入'Beijing'；\n",
      ":return：OpenWeather API查询即时天气的结果，具体URL请求地址为：https://api.openweathermap.org/data/2.5/weather    返回结果对象类型为解析之后的JSON格式对象，并用字符串形式进行表示，其中包含了全部重要的天气信息\n",
      "arguments: {'loc': {'description': 'The location name of the city', 'title': 'Loc', 'type': 'string'}}\n",
      "\n"
     ]
    }
   ],
   "source": [
    "print(f'''\n",
    "name: {get_weather.name}\n",
    "description: {get_weather.description}\n",
    "arguments: {get_weather.args}\n",
    "''')"
   ]
  },
  {
   "cell_type": "code",
   "execution_count": 3,
   "id": "2e9ea4d1",
   "metadata": {},
   "outputs": [],
   "source": [
    "# 封装外部函数列表\n",
    "tools = [get_weather]"
   ]
  },
  {
   "cell_type": "code",
   "execution_count": 4,
   "id": "3dfc9cf3",
   "metadata": {},
   "outputs": [],
   "source": [
    "from langgraph.prebuilt import create_react_agent"
   ]
  },
  {
   "cell_type": "code",
   "execution_count": 8,
   "id": "ca3f4efe",
   "metadata": {},
   "outputs": [
    {
     "name": "stderr",
     "output_type": "stream",
     "text": [
      "C:\\Users\\Administrator\\AppData\\Local\\Temp\\ipykernel_14908\\1452437597.py:1: LangGraphDeprecatedSinceV10: create_react_agent has been moved to `langchain.agents`. Please update your import to `from langchain.agents import create_agent`. Deprecated in LangGraph V1.0 to be removed in V2.0.\n",
      "  agent = create_react_agent(model=model, tools=tools)\n"
     ]
    }
   ],
   "source": [
    "agent = create_react_agent(model=model, tools=tools)"
   ]
  },
  {
   "cell_type": "code",
   "execution_count": 9,
   "id": "acf73613",
   "metadata": {},
   "outputs": [],
   "source": [
    "response = agent.invoke({\"messages\": [{\"role\": \"user\", \"content\": \"你好，请介绍下你自己。\"}]})"
   ]
  },
  {
   "cell_type": "code",
   "execution_count": null,
   "id": "d38197b0",
   "metadata": {},
   "outputs": [
    {
     "data": {
      "text/plain": [
       "{'messages': [HumanMessage(content='你好，请介绍下你自己。', additional_kwargs={}, response_metadata={}, id='4584f8b2-8fec-441a-8afc-06d5cbea0b3a'),\n",
       "  AIMessage(content='你好！我是一个AI助手，很高兴为你服务！\\n\\n我可以帮助你处理各种任务，包括：\\n- 查询天气信息\\n- 回答各种问题\\n- 协助处理文本内容\\n- 提供信息和建议\\n\\n目前我特别擅长查询天气信息，可以为你提供全球各个城市的实时天气情况。如果你需要查询某个城市的天气，只需要告诉我城市名称（中国的城市请用英文名称），我就能为你获取最新的天气数据。\\n\\n有什么我可以帮助你的吗？', additional_kwargs={'refusal': None}, response_metadata={'token_usage': {'completion_tokens': 94, 'prompt_tokens': 265, 'total_tokens': 359, 'completion_tokens_details': None, 'prompt_tokens_details': {'audio_tokens': None, 'cached_tokens': 0}, 'prompt_cache_hit_tokens': 0, 'prompt_cache_miss_tokens': 265}, 'model_name': 'deepseek-chat', 'system_fingerprint': 'fp_ffc7281d48_prod0820_fp8_kvcache', 'id': '9501507b-5345-4213-b75f-e3d8a068431f', 'service_tier': None, 'finish_reason': 'stop', 'logprobs': None}, id='lc_run--e4e863ac-4702-4a62-819b-942815dadfdd-0', usage_metadata={'input_tokens': 265, 'output_tokens': 94, 'total_tokens': 359, 'input_token_details': {'cache_read': 0}, 'output_token_details': {}})]}"
      ]
     },
     "execution_count": 12,
     "metadata": {},
     "output_type": "execute_result"
    }
   ],
   "source": [
    "response"
   ]
  },
  {
   "cell_type": "code",
   "execution_count": null,
   "id": "3caebe27",
   "metadata": {},
   "outputs": [
    {
     "data": {
      "text/plain": [
       "[HumanMessage(content='你好，请介绍下你自己。', additional_kwargs={}, response_metadata={}, id='4584f8b2-8fec-441a-8afc-06d5cbea0b3a'),\n",
       " AIMessage(content='你好！我是一个AI助手，很高兴为你服务！\\n\\n我可以帮助你处理各种任务，包括：\\n- 查询天气信息\\n- 回答各种问题\\n- 协助处理文本内容\\n- 提供信息和建议\\n\\n目前我特别擅长查询天气信息，可以为你提供全球各个城市的实时天气情况。如果你需要查询某个城市的天气，只需要告诉我城市名称（中国的城市请用英文名称），我就能为你获取最新的天气数据。\\n\\n有什么我可以帮助你的吗？', additional_kwargs={'refusal': None}, response_metadata={'token_usage': {'completion_tokens': 94, 'prompt_tokens': 265, 'total_tokens': 359, 'completion_tokens_details': None, 'prompt_tokens_details': {'audio_tokens': None, 'cached_tokens': 0}, 'prompt_cache_hit_tokens': 0, 'prompt_cache_miss_tokens': 265}, 'model_name': 'deepseek-chat', 'system_fingerprint': 'fp_ffc7281d48_prod0820_fp8_kvcache', 'id': '9501507b-5345-4213-b75f-e3d8a068431f', 'service_tier': None, 'finish_reason': 'stop', 'logprobs': None}, id='lc_run--e4e863ac-4702-4a62-819b-942815dadfdd-0', usage_metadata={'input_tokens': 265, 'output_tokens': 94, 'total_tokens': 359, 'input_token_details': {'cache_read': 0}, 'output_token_details': {}})]"
      ]
     },
     "execution_count": 13,
     "metadata": {},
     "output_type": "execute_result"
    }
   ],
   "source": [
    "response[\"messages\"]"
   ]
  },
  {
   "cell_type": "code",
   "execution_count": null,
   "id": "276d9c33",
   "metadata": {},
   "outputs": [
    {
     "name": "stdout",
     "output_type": "stream",
     "text": [
      "你好！我是一个AI助手，很高兴为你服务！\n",
      "\n",
      "我可以帮助你处理各种任务，包括：\n",
      "- 查询天气信息\n",
      "- 回答各种问题\n",
      "- 协助处理文本内容\n",
      "- 提供信息和建议\n",
      "\n",
      "目前我特别擅长查询天气信息，可以为你提供全球各个城市的实时天气情况。如果你需要查询某个城市的天气，只需要告诉我城市名称（中国的城市请用英文名称），我就能为你获取最新的天气数据。\n",
      "\n",
      "有什么我可以帮助你的吗？\n"
     ]
    }
   ],
   "source": [
    "print(response[\"messages\"][-1].content)"
   ]
  },
  {
   "cell_type": "code",
   "execution_count": 16,
   "id": "b9ccf859",
   "metadata": {},
   "outputs": [
    {
     "name": "stdout",
     "output_type": "stream",
     "text": [
      "根据查询结果，北京今天的天气情况如下：\n",
      "\n",
      "**天气状况**：🌤️ 晴，少云\n",
      "**温度**：11.9°C\n",
      "**体感温度**：10.3°C\n",
      "**湿度**：41%\n",
      "**气压**：1018 hPa\n",
      "**风速**：1.25 m/s\n",
      "**能见度**：10公里\n",
      "\n",
      "总体来说，今天北京天气不错，晴朗少云，温度适中，风力较小，是个比较舒适的日子。\n"
     ]
    }
   ],
   "source": [
    "response = agent.invoke({\"messages\": [{\"role\": \"user\", \"content\": \"请问北京今天天气如何？\"}]})\n",
    "print(response[\"messages\"][-1].content)"
   ]
  },
  {
   "cell_type": "code",
   "execution_count": 11,
   "id": "1c2de669",
   "metadata": {},
   "outputs": [
    {
     "data": {
      "text/plain": [
       "[HumanMessage(content='请问北京今天天气如何？', additional_kwargs={}, response_metadata={}, id='651e9728-1dc8-4c70-98df-8b97d7d77dfe'),\n",
       " AIMessage(content='我来帮您查询北京今天的天气情况。', additional_kwargs={'tool_calls': [{'id': 'call_00_q9F9zKokvt208GxJELLIyzKX', 'function': {'arguments': '{\"loc\": \"Beijing\"}', 'name': 'get_weather'}, 'type': 'function', 'index': 0}], 'refusal': None}, response_metadata={'token_usage': {'completion_tokens': 23, 'prompt_tokens': 264, 'total_tokens': 287, 'completion_tokens_details': None, 'prompt_tokens_details': {'audio_tokens': None, 'cached_tokens': 256}, 'prompt_cache_hit_tokens': 256, 'prompt_cache_miss_tokens': 8}, 'model_name': 'deepseek-chat', 'system_fingerprint': 'fp_ffc7281d48_prod0820_fp8_kvcache', 'id': '08dfe276-7e7b-4b67-9b0f-24efaf90e0a9', 'service_tier': None, 'finish_reason': 'tool_calls', 'logprobs': None}, id='lc_run--553cdc4e-08a4-4986-beab-be4a10e7b5f8-0', tool_calls=[{'name': 'get_weather', 'args': {'loc': 'Beijing'}, 'id': 'call_00_q9F9zKokvt208GxJELLIyzKX', 'type': 'tool_call'}], usage_metadata={'input_tokens': 264, 'output_tokens': 23, 'total_tokens': 287, 'input_token_details': {'cache_read': 256}, 'output_token_details': {}}),\n",
       " ToolMessage(content='{\"coord\": {\"lon\": 116.3972, \"lat\": 39.9075}, \"weather\": [{\"id\": 801, \"main\": \"Clouds\", \"description\": \"\\\\u6674\\\\uff0c\\\\u5c11\\\\u4e91\", \"icon\": \"02d\"}], \"base\": \"stations\", \"main\": {\"temp\": 11.94, \"feels_like\": 10.26, \"temp_min\": 11.94, \"temp_max\": 11.94, \"pressure\": 1018, \"humidity\": 41, \"sea_level\": 1018, \"grnd_level\": 1013}, \"visibility\": 10000, \"wind\": {\"speed\": 1.25, \"deg\": 241, \"gust\": 2.34}, \"clouds\": {\"all\": 14}, \"dt\": 1761722178, \"sys\": {\"type\": 1, \"id\": 9609, \"country\": \"CN\", \"sunrise\": 1761691169, \"sunset\": 1761729396}, \"timezone\": 28800, \"id\": 1816670, \"name\": \"Beijing\", \"cod\": 200}', name='get_weather', id='75af2554-71df-4f3f-b060-86c5781de88d', tool_call_id='call_00_q9F9zKokvt208GxJELLIyzKX'),\n",
       " AIMessage(content='根据查询结果，北京今天的天气情况如下：\\n\\n**天气状况**：晴，少云 ☁️\\n\\n**温度信息**：\\n- 当前温度：11.94°C\\n- 体感温度：10.26°C\\n- 最高/最低温度：11.94°C\\n\\n**其他气象信息**：\\n- 湿度：41%\\n- 气压：1018 hPa\\n- 风速：1.25 m/s\\n- 能见度：10000米\\n\\n总体来说，今天北京天气晴朗，温度适中，风力较小，是个不错的天气！建议您可以根据这个温度适当穿着外套出行。', additional_kwargs={'refusal': None}, response_metadata={'token_usage': {'completion_tokens': 131, 'prompt_tokens': 554, 'total_tokens': 685, 'completion_tokens_details': None, 'prompt_tokens_details': {'audio_tokens': None, 'cached_tokens': 256}, 'prompt_cache_hit_tokens': 256, 'prompt_cache_miss_tokens': 298}, 'model_name': 'deepseek-chat', 'system_fingerprint': 'fp_ffc7281d48_prod0820_fp8_kvcache', 'id': '62239b93-4bfb-4056-8bba-d06b0051ef52', 'service_tier': None, 'finish_reason': 'stop', 'logprobs': None}, id='lc_run--e0442c32-3c92-49eb-b399-9d8ba700544b-0', usage_metadata={'input_tokens': 554, 'output_tokens': 131, 'total_tokens': 685, 'input_token_details': {'cache_read': 256}, 'output_token_details': {}})]"
      ]
     },
     "execution_count": 11,
     "metadata": {},
     "output_type": "execute_result"
    }
   ],
   "source": [
    "response['messages']"
   ]
  },
  {
   "cell_type": "code",
   "execution_count": 12,
   "id": "2ba2b817",
   "metadata": {},
   "outputs": [
    {
     "data": {
      "text/plain": [
       "4"
      ]
     },
     "execution_count": 12,
     "metadata": {},
     "output_type": "execute_result"
    }
   ],
   "source": [
    "len(response['messages'])"
   ]
  },
  {
   "cell_type": "code",
   "execution_count": 13,
   "id": "ace28ebc",
   "metadata": {},
   "outputs": [
    {
     "data": {
      "text/plain": [
       "HumanMessage(content='请问北京今天天气如何？', additional_kwargs={}, response_metadata={}, id='651e9728-1dc8-4c70-98df-8b97d7d77dfe')"
      ]
     },
     "execution_count": 13,
     "metadata": {},
     "output_type": "execute_result"
    }
   ],
   "source": [
    "response['messages'][0]"
   ]
  },
  {
   "cell_type": "code",
   "execution_count": 14,
   "id": "e52e70df",
   "metadata": {},
   "outputs": [
    {
     "data": {
      "text/plain": [
       "AIMessage(content='我来帮您查询北京今天的天气情况。', additional_kwargs={'tool_calls': [{'id': 'call_00_q9F9zKokvt208GxJELLIyzKX', 'function': {'arguments': '{\"loc\": \"Beijing\"}', 'name': 'get_weather'}, 'type': 'function', 'index': 0}], 'refusal': None}, response_metadata={'token_usage': {'completion_tokens': 23, 'prompt_tokens': 264, 'total_tokens': 287, 'completion_tokens_details': None, 'prompt_tokens_details': {'audio_tokens': None, 'cached_tokens': 256}, 'prompt_cache_hit_tokens': 256, 'prompt_cache_miss_tokens': 8}, 'model_name': 'deepseek-chat', 'system_fingerprint': 'fp_ffc7281d48_prod0820_fp8_kvcache', 'id': '08dfe276-7e7b-4b67-9b0f-24efaf90e0a9', 'service_tier': None, 'finish_reason': 'tool_calls', 'logprobs': None}, id='lc_run--553cdc4e-08a4-4986-beab-be4a10e7b5f8-0', tool_calls=[{'name': 'get_weather', 'args': {'loc': 'Beijing'}, 'id': 'call_00_q9F9zKokvt208GxJELLIyzKX', 'type': 'tool_call'}], usage_metadata={'input_tokens': 264, 'output_tokens': 23, 'total_tokens': 287, 'input_token_details': {'cache_read': 256}, 'output_token_details': {}})"
      ]
     },
     "execution_count": 14,
     "metadata": {},
     "output_type": "execute_result"
    }
   ],
   "source": [
    "response['messages'][1]"
   ]
  },
  {
   "cell_type": "code",
   "execution_count": 15,
   "id": "0aa4b456",
   "metadata": {},
   "outputs": [
    {
     "data": {
      "text/plain": [
       "ToolMessage(content='{\"coord\": {\"lon\": 116.3972, \"lat\": 39.9075}, \"weather\": [{\"id\": 801, \"main\": \"Clouds\", \"description\": \"\\\\u6674\\\\uff0c\\\\u5c11\\\\u4e91\", \"icon\": \"02d\"}], \"base\": \"stations\", \"main\": {\"temp\": 11.94, \"feels_like\": 10.26, \"temp_min\": 11.94, \"temp_max\": 11.94, \"pressure\": 1018, \"humidity\": 41, \"sea_level\": 1018, \"grnd_level\": 1013}, \"visibility\": 10000, \"wind\": {\"speed\": 1.25, \"deg\": 241, \"gust\": 2.34}, \"clouds\": {\"all\": 14}, \"dt\": 1761722178, \"sys\": {\"type\": 1, \"id\": 9609, \"country\": \"CN\", \"sunrise\": 1761691169, \"sunset\": 1761729396}, \"timezone\": 28800, \"id\": 1816670, \"name\": \"Beijing\", \"cod\": 200}', name='get_weather', id='75af2554-71df-4f3f-b060-86c5781de88d', tool_call_id='call_00_q9F9zKokvt208GxJELLIyzKX')"
      ]
     },
     "execution_count": 15,
     "metadata": {},
     "output_type": "execute_result"
    }
   ],
   "source": [
    "response['messages'][2]"
   ]
  },
  {
   "cell_type": "code",
   "execution_count": null,
   "id": "345cf38c",
   "metadata": {},
   "outputs": [],
   "source": []
  }
 ],
 "metadata": {
  "kernelspec": {
   "display_name": "lc",
   "language": "python",
   "name": "python3"
  },
  "language_info": {
   "codemirror_mode": {
    "name": "ipython",
    "version": 3
   },
   "file_extension": ".py",
   "mimetype": "text/x-python",
   "name": "python",
   "nbconvert_exporter": "python",
   "pygments_lexer": "ipython3",
   "version": "3.12.0"
  }
 },
 "nbformat": 4,
 "nbformat_minor": 5
}
